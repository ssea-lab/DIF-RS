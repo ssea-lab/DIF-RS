{
 "cells": [
  {
   "cell_type": "code",
   "execution_count": 155,
   "metadata": {},
   "outputs": [],
   "source": [
    "import pymysql\n",
    "import yaml\n",
    "import types\n",
    "from tqdm import tqdm\n",
    "import random\n",
    "import numpy as np\n",
    "import torch\n",
    "from psnet.config import Config\n",
    "from psnet.sampling import get_idx_list\n",
    "import sys\n",
    "from psnet.config import  load_pkl, pkl_parser"
   ]
  },
  {
   "cell_type": "code",
   "execution_count": 137,
   "metadata": {},
   "outputs": [],
   "source": [
    "with open('database.yaml', 'r') as file:\n",
    "    database_info = yaml.safe_load(file)\n",
    "    mysql_info = database_info['mysql']\n",
    "    host = mysql_info['host']\n",
    "    user = mysql_info['user']\n",
    "    passwd = mysql_info['passwd']\n",
    "    db=  pymysql.connect(host=host, user=user, passwd=passwd, db='edge_task_scheduling', charset='utf8')"
   ]
  },
  {
   "cell_type": "code",
   "execution_count": 138,
   "metadata": {},
   "outputs": [],
   "source": [
    "arg =  types.SimpleNamespace()\n",
    "arg.dataset = \"alibaba_cluster_trace\"\n",
    "# arg.offset = 370400\n",
    "arg.task_n = 277800\n",
    "# arg.task_n = 10"
   ]
  },
  {
   "cell_type": "code",
   "execution_count": 141,
   "metadata": {},
   "outputs": [],
   "source": [
    "def get_data_instance(self, arg):\n",
    "    # query = 'SELECT MAX(id) FROM {}'.format(self.dataset)\n",
    "    # self.cursor.execute(query)\n",
    "    # max_id = self.cursor.fetchone()[0] - arg.task_n\n",
    "    # start_id = random.randint(0, max_id)\n",
    "    # 从一个随机id开始抽取数据\n",
    "    query = 'SELECT * FROM {} LIMIT {}'.format(self.dataset, arg.task_n)\n",
    "    self.cursor.execute(query)\n",
    "    # [id, cpu,io,bandwidth,ram,timestamp,duration,latitude,longitude]\n",
    "    task_list = self.cursor.fetchall()\n",
    "    task_list = np.array(task_list)[:, 1:-2]\n",
    "    task_list[:, 4] = abs(task_list[:, 4] - task_list[0][4])\n",
    "    return torch.tensor(task_list, dtype=torch.float32).unsqueeze(0)\n",
    "self = types.SimpleNamespace()\n",
    "self.get_data_instance = get_data_instance"
   ]
  },
  {
   "cell_type": "code",
   "execution_count": 143,
   "metadata": {},
   "outputs": [
    {
     "name": "stdout",
     "output_type": "stream",
     "text": [
      "Loaded \"alibaba_cluster_trace\" with 277800 lines\n"
     ]
    }
   ],
   "source": [
    "self.cursor =  db.cursor()\n",
    "self.dataset = arg.dataset\n",
    "self.file_lines = []\n",
    "instance = self.get_data_instance(self,arg)\n",
    "instance = instance.squeeze(0).tolist()\n",
    "\n",
    "# print(self.file_lines[0])\n",
    "print(f'Loaded \"{self.dataset}\" with {len(instance)} lines')"
   ]
  },
  {
   "cell_type": "code",
   "execution_count": 156,
   "metadata": {},
   "outputs": [
    {
     "name": "stdout",
     "output_type": "stream",
     "text": [
      "<class 'float'>\n",
      "['/home/li/DIFUSCO_EDGE/difusco/co_datasets', '/home/li/miniconda3/envs/difusco_edge/lib/python37.zip', '/home/li/miniconda3/envs/difusco_edge/lib/python3.7', '/home/li/miniconda3/envs/difusco_edge/lib/python3.7/lib-dynload', '', '/home/li/miniconda3/envs/difusco_edge/lib/python3.7/site-packages', '/home/li/miniconda3/envs/difusco_edge/lib/python3.7/site-packages/IPython/extensions', '/home/li/.ipython']\n",
      "./co_datasets/psnet/config/config.pkl\n"
     ]
    }
   ],
   "source": [
    "print(type(instance[0][0]))\n",
    "print(sys.path)\n",
    "print(pkl_parser().path)"
   ]
  },
  {
   "cell_type": "code",
   "execution_count": 154,
   "metadata": {},
   "outputs": [
    {
     "ename": "FileNotFoundError",
     "evalue": "pkl_path",
     "output_type": "error",
     "traceback": [
      "\u001b[0;31m---------------------------------------------------------------------------\u001b[0m",
      "\u001b[0;31mFileNotFoundError\u001b[0m                         Traceback (most recent call last)",
      "\u001b[0;32m/tmp/ipykernel_525878/2451290570.py\u001b[0m in \u001b[0;36m<module>\u001b[0;34m\u001b[0m\n\u001b[1;32m     11\u001b[0m         \u001b[0mtask_list\u001b[0m\u001b[0;34m.\u001b[0m\u001b[0mappend\u001b[0m\u001b[0;34m(\u001b[0m\u001b[0mitem\u001b[0m\u001b[0;34m)\u001b[0m\u001b[0;34m\u001b[0m\u001b[0;34m\u001b[0m\u001b[0m\n\u001b[1;32m     12\u001b[0m         \u001b[0;32mif\u001b[0m\u001b[0;34m(\u001b[0m\u001b[0;34m(\u001b[0m\u001b[0mindex\u001b[0m\u001b[0;34m+\u001b[0m\u001b[0;36m1\u001b[0m\u001b[0;34m)\u001b[0m \u001b[0;34m%\u001b[0m \u001b[0;36m50\u001b[0m \u001b[0;34m==\u001b[0m \u001b[0;36m0\u001b[0m\u001b[0;34m)\u001b[0m\u001b[0;34m:\u001b[0m\u001b[0;34m\u001b[0m\u001b[0;34m\u001b[0m\u001b[0m\n\u001b[0;32m---> 13\u001b[0;31m             \u001b[0midx_list\u001b[0m \u001b[0;34m=\u001b[0m \u001b[0mget_idx_list\u001b[0m\u001b[0;34m(\u001b[0m\u001b[0mtask_list\u001b[0m\u001b[0;34m,\u001b[0m\u001b[0marg\u001b[0m\u001b[0;34m.\u001b[0m\u001b[0mdataset\u001b[0m\u001b[0;34m)\u001b[0m\u001b[0;34m\u001b[0m\u001b[0;34m\u001b[0m\u001b[0m\n\u001b[0m\u001b[1;32m     14\u001b[0m             \u001b[0midx_list\u001b[0m \u001b[0;34m=\u001b[0m \u001b[0;34m[\u001b[0m\u001b[0mstr\u001b[0m\u001b[0;34m(\u001b[0m\u001b[0mj\u001b[0m\u001b[0;34m)\u001b[0m \u001b[0;32mfor\u001b[0m \u001b[0mj\u001b[0m \u001b[0;32min\u001b[0m \u001b[0midx_list\u001b[0m\u001b[0;34m]\u001b[0m\u001b[0;34m\u001b[0m\u001b[0;34m\u001b[0m\u001b[0m\n\u001b[1;32m     15\u001b[0m             \u001b[0mfile\u001b[0m\u001b[0;34m.\u001b[0m\u001b[0mwrite\u001b[0m\u001b[0;34m(\u001b[0m\u001b[0;34m' '\u001b[0m\u001b[0;34m.\u001b[0m\u001b[0mjoin\u001b[0m\u001b[0;34m(\u001b[0m\u001b[0midx_list\u001b[0m\u001b[0;34m)\u001b[0m \u001b[0;34m+\u001b[0m \u001b[0;34m\"\\n\"\u001b[0m\u001b[0;34m)\u001b[0m\u001b[0;34m\u001b[0m\u001b[0;34m\u001b[0m\u001b[0m\n",
      "\u001b[0;32m~/DIFUSCO_EDGE/difusco/co_datasets/psnet/sampling.py\u001b[0m in \u001b[0;36mget_idx_list\u001b[0;34m(task_list, dataset)\u001b[0m\n\u001b[1;32m     20\u001b[0m \u001b[0;34m\u001b[0m\u001b[0m\n\u001b[1;32m     21\u001b[0m \u001b[0;32mdef\u001b[0m \u001b[0mget_idx_list\u001b[0m\u001b[0;34m(\u001b[0m\u001b[0mtask_list\u001b[0m\u001b[0;34m,\u001b[0m \u001b[0mdataset\u001b[0m\u001b[0;34m)\u001b[0m\u001b[0;34m:\u001b[0m\u001b[0;34m\u001b[0m\u001b[0;34m\u001b[0m\u001b[0m\n\u001b[0;32m---> 22\u001b[0;31m     \u001b[0mcfg\u001b[0m \u001b[0;34m=\u001b[0m \u001b[0mload_pkl\u001b[0m\u001b[0;34m(\u001b[0m\u001b[0mpkl_parser\u001b[0m\u001b[0;34m(\u001b[0m\u001b[0;34m)\u001b[0m\u001b[0;34m.\u001b[0m\u001b[0mpath\u001b[0m\u001b[0;34m)\u001b[0m\u001b[0;34m\u001b[0m\u001b[0;34m\u001b[0m\u001b[0m\n\u001b[0m\u001b[1;32m     23\u001b[0m     \u001b[0;32mreturn\u001b[0m \u001b[0msampling\u001b[0m\u001b[0;34m(\u001b[0m\u001b[0mtask_list\u001b[0m\u001b[0;34m,\u001b[0m \u001b[0mcfg\u001b[0m\u001b[0;34m,\u001b[0m \u001b[0mdataset\u001b[0m\u001b[0;34m)\u001b[0m\u001b[0;34m\u001b[0m\u001b[0;34m\u001b[0m\u001b[0m\n\u001b[1;32m     24\u001b[0m \u001b[0;32mif\u001b[0m \u001b[0m__name__\u001b[0m \u001b[0;34m==\u001b[0m \u001b[0;34m\"__main__\"\u001b[0m\u001b[0;34m:\u001b[0m\u001b[0;34m\u001b[0m\u001b[0;34m\u001b[0m\u001b[0m\n",
      "\u001b[0;32m~/DIFUSCO_EDGE/difusco/co_datasets/psnet/config.py\u001b[0m in \u001b[0;36mload_pkl\u001b[0;34m(pkl_path)\u001b[0m\n\u001b[1;32m     74\u001b[0m \u001b[0;32mdef\u001b[0m \u001b[0mload_pkl\u001b[0m\u001b[0;34m(\u001b[0m\u001b[0mpkl_path\u001b[0m\u001b[0;34m)\u001b[0m\u001b[0;34m:\u001b[0m\u001b[0;34m\u001b[0m\u001b[0;34m\u001b[0m\u001b[0m\n\u001b[1;32m     75\u001b[0m     \u001b[0mprint\u001b[0m\u001b[0;34m(\u001b[0m\u001b[0mpkl_path\u001b[0m\u001b[0;34m)\u001b[0m\u001b[0;34m\u001b[0m\u001b[0;34m\u001b[0m\u001b[0m\n\u001b[0;32m---> 76\u001b[0;31m     \u001b[0;32mif\u001b[0m \u001b[0;32mnot\u001b[0m \u001b[0mos\u001b[0m\u001b[0;34m.\u001b[0m\u001b[0mpath\u001b[0m\u001b[0;34m.\u001b[0m\u001b[0misfile\u001b[0m\u001b[0;34m(\u001b[0m\u001b[0mpkl_path\u001b[0m\u001b[0;34m)\u001b[0m\u001b[0;34m:\u001b[0m\u001b[0;34m\u001b[0m\u001b[0;34m\u001b[0m\u001b[0m\n\u001b[0m\u001b[1;32m     77\u001b[0m         \u001b[0;32mraise\u001b[0m \u001b[0mFileNotFoundError\u001b[0m\u001b[0;34m(\u001b[0m\u001b[0;34m'pkl_path'\u001b[0m\u001b[0;34m)\u001b[0m\u001b[0;34m\u001b[0m\u001b[0;34m\u001b[0m\u001b[0m\n\u001b[1;32m     78\u001b[0m     \u001b[0;32mwith\u001b[0m \u001b[0mopen\u001b[0m\u001b[0;34m(\u001b[0m\u001b[0mpkl_path\u001b[0m\u001b[0;34m,\u001b[0m \u001b[0;34m'rb'\u001b[0m\u001b[0;34m)\u001b[0m \u001b[0;32mas\u001b[0m \u001b[0mf\u001b[0m\u001b[0;34m:\u001b[0m\u001b[0;34m\u001b[0m\u001b[0;34m\u001b[0m\u001b[0m\n",
      "\u001b[0;31mFileNotFoundError\u001b[0m: pkl_path"
     ]
    }
   ],
   "source": [
    "# 打开一个文件，以写入模式\n",
    "task_list = []\n",
    "with open(\"/home/li/DIF-RS/data/val/alibaba_cluster_trace_50.txt\", \"w+\") as file:\n",
    "    # 遍历列表中的每个元素\n",
    "    for index,item in enumerate(instance):\n",
    "        str_list = [str(i) for i in item]\n",
    "        # 将每个元素写入文件，并添加换行符\n",
    "        # print(type(item))\n",
    "        # print(' '.join(str_list))\n",
    "        file.write(' '.join(str_list) + \"\\n\")\n",
    "        task_list.append(item)\n",
    "        if((index+1) % 50 == 0):\n",
    "            idx_list = get_idx_list(task_list,arg.dataset)\n",
    "            idx_list = [str(j) for j in idx_list]\n",
    "            file.write(' '.join(idx_list) + \"\\n\")\n",
    "            task_list = []"
   ]
  },
  {
   "cell_type": "code",
   "execution_count": 126,
   "metadata": {},
   "outputs": [
    {
     "name": "stdout",
     "output_type": "stream",
     "text": [
      "[[0.14000000059604645, 0.033577900379896164, 0.0042472099885344505, 0.0001284549944102764, 0.0, 22.0], [0.05000000074505806, 0.04074599966406822, 0.008879530243575573, 0.000866578018758446, 3.0, 20.0], [0.27000001072883606, 0.007546550128608942, 0.012826000340282917, 0.0009475279948674142, 4.0, 28.0], [0.27000001072883606, 0.010792099870741367, 0.01866159960627556, 0.0001379040040774271, 5.0, 30.0], [0.1599999964237213, 0.03124449960887432, 0.017170099541544914, 0.0008469360182061791, 5.0, 15.0], [0.17000000178813934, 0.028396200388669968, 0.011035400442779064, 0.0008209680090658367, 5.0, 36.0], [0.1599999964237213, 0.04817119985818863, 0.003666939912363887, 0.0005640339804813266, 6.0, 34.0], [0.28999999165534973, 0.060217298567295074, 0.004058400169014931, 0.0003572659916244447, 6.0, 13.0], [0.12999999523162842, 0.06112319976091385, 0.009291199967265129, 9.422739822184667e-05, 7.0, 10.0], [0.1599999964237213, 0.029513899236917496, 0.015450799837708473, 0.0003993390128016472, 8.0, 11.0], [0.05999999865889549, 0.0594974011182785, 0.011720400303602219, 0.000714013003744185, 10.0, 24.0], [0.2199999988079071, 0.018121499568223953, 0.012249399907886982, 0.000372050009900704, 11.0, 39.0], [0.10000000149011612, 0.007412809878587723, 0.007255860138684511, 0.0007182079716585577, 13.0, 22.0], [0.14000000059604645, 0.07799690216779709, 0.018361100926995277, 0.0004748920036945492, 14.0, 40.0], [0.12999999523162842, 0.08154880255460739, 0.013548100367188454, 0.00021983399346936494, 14.0, 35.0], [0.23999999463558197, 0.07830320298671722, 0.012657299637794495, 0.0006744930287823081, 15.0, 16.0], [0.17000000178813934, 0.05141950026154518, 0.0038118900265544653, 0.0007129639852792025, 16.0, 15.0], [0.23000000417232513, 0.022111600264906883, 0.01874770037829876, 0.0005413410253822803, 18.0, 26.0], [0.07000000029802322, 0.05159680172801018, 0.0069826701655983925, 0.0005678149755112827, 18.0, 35.0], [0.23999999463558197, 0.0008254849817603827, 0.016330299898982048, 0.00021505099721252918, 19.0, 46.0], [0.18000000715255737, 0.04000819846987724, 0.00421368982642889, 0.0003718090010806918, 21.0, 27.0], [0.15000000596046448, 0.006740939803421497, 0.009737459942698479, 0.00021389199537225068, 21.0, 47.0], [0.11999999731779099, 0.008977440185844898, 0.01721620000898838, 0.0009540329920127988, 22.0, 50.0], [0.05000000074505806, 0.024588100612163544, 0.0003786149900406599, 0.0001284890022361651, 22.0, 11.0], [0.05000000074505806, 0.0005581810255534947, 0.006734489928930998, 0.0007803480257280171, 23.0, 38.0], [0.1899999976158142, 0.024323999881744385, 0.013706600293517113, 0.0005162730230949819, 24.0, 26.0], [0.23999999463558197, 0.024495499208569527, 0.010669499635696411, 0.00024032199871726334, 25.0, 15.0], [0.15000000596046448, 0.04942910000681877, 0.012227700091898441, 0.0006527879741042852, 25.0, 47.0], [0.07999999821186066, 0.07820890098810196, 0.010299899615347385, 0.0005429739831015468, 27.0, 40.0], [0.1599999964237213, 0.05193360149860382, 0.014816599898040295, 0.0007565059931948781, 28.0, 10.0], [0.05000000074505806, 0.024964800104498863, 0.005523019935935736, 0.0001536089985165745, 29.0, 26.0], [0.05999999865889549, 0.06432089954614639, 0.0019954200834035873, 0.000498525972943753, 31.0, 34.0], [0.09000000357627869, 0.055886100977659225, 0.012237999588251114, 3.18019010592252e-05, 32.0, 11.0], [0.2199999988079071, 0.08639159798622131, 0.01754399947822094, 0.0006634329911321402, 34.0, 33.0], [0.05000000074505806, 0.07347609847784042, 0.01334569975733757, 0.00022175699996296316, 35.0, 20.0], [0.05999999865889549, 0.0127555001527071, 0.014096699655056, 0.0001184880020446144, 35.0, 37.0], [0.25, 0.03402030095458031, 0.011616500094532967, 0.0009271699818782508, 36.0, 26.0], [0.25999999046325684, 0.036385200917720795, 0.015792399644851685, 0.00028038700111210346, 36.0, 17.0], [0.15000000596046448, 0.07978890091180801, 0.006452590227127075, 0.0006204230012372136, 37.0, 27.0], [0.09000000357627869, 0.003591550048440695, 0.0037156199105083942, 0.0002609550138004124, 38.0, 20.0], [0.23000000417232513, 0.06463570147752762, 0.0180502999573946, 0.00044350698590278625, 39.0, 17.0], [0.05000000074505806, 0.026206500828266144, 0.003784880042076111, 0.00043466800707392395, 39.0, 25.0], [0.07000000029802322, 0.03242290019989014, 0.0024333400651812553, 0.0008428180008195341, 40.0, 25.0], [0.05999999865889549, 0.08341869711875916, 0.0008120749844238162, 0.0009100890019908547, 40.0, 49.0], [0.2199999988079071, 0.03362720087170601, 0.01559040043503046, 2.1988300431985408e-05, 41.0, 18.0], [0.15000000596046448, 0.013177599757909775, 0.00019553500169422477, 0.0003796759992837906, 42.0, 42.0], [0.14000000059604645, 0.06030350178480148, 0.010696600191295147, 0.0008324129739776254, 44.0, 26.0], [0.10999999940395355, 0.07116100192070007, 0.015236499719321728, 2.3037500795908272e-05, 47.0, 34.0], [0.11999999731779099, 0.07944449782371521, 0.0064326198771595955, 0.0006179490010254085, 48.0, 14.0], [0.18000000715255737, 0.08828940242528915, 0.005283629987388849, 2.0633600797737017e-05, 50.0, 17.0]]\n",
      "Loaded \"/home/li/DIFUSCO_EDGE/data/train/alibaba_cluster_trace.txt\" with 5556 lines each line has 50 task\n"
     ]
    }
   ],
   "source": [
    "self.data_file = \"/home/li/DIF-RS/data/train/alibaba_cluster_trace.txt\"\n",
    "# self.sparse_factor = sparse_factor\n",
    "# self.file_lines = open(self.data_file).read().splitlines()\n",
    "# print(f'Loaded \"{self.data_file}\" with {len(self.file_lines)} lines')\n",
    "self.file_lines = []\n",
    "with open(self.data_file, 'r', encoding='utf-8') as file:\n",
    "        chunk = []\n",
    "        for index, line in enumerate(file):\n",
    "            chunk.append([float(item) for item in(line.strip().split(' '))])  # 去掉行末的换行符\n",
    "            if (index + 1) % arg.task_n == 0:\n",
    "                temp = chunk[0][4] # 减去第一个任务的时间，获得每个任务的相对时间\n",
    "                for i,_ in enumerate(chunk):\n",
    "                     chunk[i][4] = abs(chunk[i][4] - temp)\n",
    "                self.file_lines.append(chunk)\n",
    "                chunk = []\n",
    "        # 处理最后一组不满50行的情况\n",
    "        if chunk:\n",
    "            self.file_lines.append(chunk)\n",
    "print(self.file_lines[0])\n",
    "print(f'Loaded \"{self.data_file}\" with {len(self.file_lines)} lines each line has {arg.task_n} task')\n"
   ]
  },
  {
   "cell_type": "code",
   "execution_count": null,
   "metadata": {},
   "outputs": [],
   "source": []
  }
 ],
 "metadata": {
  "kernelspec": {
   "display_name": "difusco_edge",
   "language": "python",
   "name": "python3"
  },
  "language_info": {
   "codemirror_mode": {
    "name": "ipython",
    "version": 3
   },
   "file_extension": ".py",
   "mimetype": "text/x-python",
   "name": "python",
   "nbconvert_exporter": "python",
   "pygments_lexer": "ipython3",
   "version": "3.7.13"
  }
 },
 "nbformat": 4,
 "nbformat_minor": 2
}
