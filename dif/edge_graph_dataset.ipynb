{
 "cells": [
  {
   "cell_type": "code",
   "execution_count": 22,
   "metadata": {},
   "outputs": [],
   "source": [
    "\n",
    "import numpy as np\n",
    "import torch\n",
    "import os\n",
    "from sklearn.neighbors import KDTree\n",
    "from torch_geometric.data import Data as GraphData\n",
    "import pymysql\n",
    "import yaml\n",
    "from tqdm import tqdm\n",
    "import random\n",
    "import types"
   ]
  },
  {
   "cell_type": "code",
   "execution_count": 23,
   "metadata": {},
   "outputs": [],
   "source": [
    "def connect():\n",
    "    with open('database.yaml', 'r') as file:\n",
    "        database_info = yaml.safe_load(file)\n",
    "    mysql_info = database_info['mysql']\n",
    "    host = mysql_info['host']\n",
    "    user = mysql_info['user']\n",
    "    passwd = mysql_info['passwd']\n",
    "    return pymysql.connect(host=host, user=user, passwd=passwd, db='edge_task_scheduling', charset='utf8')"
   ]
  },
  {
   "cell_type": "code",
   "execution_count": 29,
   "metadata": {},
   "outputs": [],
   "source": [
    "arg =  types.SimpleNamespace()\n",
    "\n",
    "arg.dataset = \"alibaba_cluster_trace\"\n",
    "arg.task_n = 100\n",
    "arg.epoch = 10\n",
    "arg.batch = 5\n",
    "self = types.SimpleNamespace()"
   ]
  },
  {
   "cell_type": "code",
   "execution_count": 33,
   "metadata": {},
   "outputs": [],
   "source": [
    "def get_data_instance(self, arg):\n",
    "    query = 'SELECT MAX(id) FROM {}'.format(self.dataset)\n",
    "    self.cursor.execute(query)\n",
    "    max_id = self.cursor.fetchone()[0] - arg.task_n\n",
    "    start_id = random.randint(0, max_id)\n",
    "    # 从一个随机id开始抽取数据\n",
    "    query = 'SELECT * FROM {} WHERE id > {} LIMIT {}'.format(self.dataset, start_id, arg.task_n)\n",
    "    self.cursor.execute(query)\n",
    "    # [id, cpu,io,bandwidth,ram,timestamp,duration,latitude,longitude]\n",
    "    task_list = self.cursor.fetchall()\n",
    "    task_list = np.array(task_list)[:, 1:-2]\n",
    "    task_list[:, 4] = abs(task_list[:, 4] - task_list[-1][4])\n",
    "    return torch.tensor(task_list, dtype=torch.float32).unsqueeze(0)"
   ]
  },
  {
   "cell_type": "code",
   "execution_count": 54,
   "metadata": {},
   "outputs": [
    {
     "name": "stderr",
     "output_type": "stream",
     "text": [
      "100%|██████████| 50/50 [00:00<00:00, 330.59it/s]"
     ]
    },
    {
     "name": "stdout",
     "output_type": "stream",
     "text": [
      "[0.11999999731779099, 0.08329469710588455, 0.010839399881660938, 0.0005578729906119406, 101.0, 45.0]\n",
      "Loaded \"alibaba_cluster_trace\"\n"
     ]
    },
    {
     "name": "stderr",
     "output_type": "stream",
     "text": [
      "\n"
     ]
    }
   ],
   "source": [
    "self.db = connect()\n",
    "self.cursor =  self.db.cursor()\n",
    "self.dataset = arg.dataset\n",
    "self.file_lines = []\n",
    "for _ in tqdm(range(arg.batch * arg.epoch)):\n",
    "  instance = get_data_instance(self,arg)\n",
    "  instance = instance.squeeze(0).tolist()\n",
    "  self.file_lines.append(instance)\n",
    "print((self.file_lines[0][0]))\n",
    "print(f'Loaded \"{self.dataset}\"')"
   ]
  }
 ],
 "metadata": {
  "kernelspec": {
   "display_name": "difusco_edge",
   "language": "python",
   "name": "python3"
  },
  "language_info": {
   "codemirror_mode": {
    "name": "ipython",
    "version": 3
   },
   "file_extension": ".py",
   "mimetype": "text/x-python",
   "name": "python",
   "nbconvert_exporter": "python",
   "pygments_lexer": "ipython3",
   "version": "3.7.13"
  }
 },
 "nbformat": 4,
 "nbformat_minor": 2
}
